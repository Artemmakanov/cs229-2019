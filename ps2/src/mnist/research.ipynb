{
 "cells": [
  {
   "cell_type": "code",
   "execution_count": 1,
   "metadata": {},
   "outputs": [],
   "source": [
    "import numpy as np"
   ]
  },
  {
   "cell_type": "code",
   "execution_count": 11,
   "metadata": {},
   "outputs": [],
   "source": [
    "v = np.array([[10000, 10010, 10],\n",
    "              [10, 10, 10]])\n",
    "\n",
    "b, n = v.shape"
   ]
  },
  {
   "cell_type": "code",
   "execution_count": 25,
   "metadata": {},
   "outputs": [
    {
     "data": {
      "text/plain": [
       "array([[4.53978687e-05, 9.99954602e-01, 0.00000000e+00],\n",
       "       [3.33333333e-01, 3.33333333e-01, 3.33333333e-01]])"
      ]
     },
     "execution_count": 25,
     "metadata": {},
     "output_type": "execute_result"
    }
   ],
   "source": [
    "exponented = np.exp(v - v.max(axis=1).reshape((b, 1)))\n",
    "exponented / exponented.sum(axis=1).reshape((b, 1))"
   ]
  },
  {
   "cell_type": "code",
   "execution_count": 26,
   "metadata": {},
   "outputs": [],
   "source": [
    "mu, sigma = 0, 1\n",
    "batch_size = 10\n",
    "input_size = 748\n",
    "num_hidden = 100\n",
    "W1 = np.random.normal(mu, sigma, (input_size, num_hidden))\n",
    "data = np.random.normal(mu, sigma, (batch_size, input_size))"
   ]
  },
  {
   "cell_type": "code",
   "execution_count": 31,
   "metadata": {},
   "outputs": [],
   "source": [
    "from nn import sigmoid"
   ]
  },
  {
   "cell_type": "code",
   "execution_count": 28,
   "metadata": {},
   "outputs": [
    {
     "data": {
      "text/plain": [
       "((10, 748), (748, 100))"
      ]
     },
     "execution_count": 28,
     "metadata": {},
     "output_type": "execute_result"
    }
   ],
   "source": [
    "data.shape, W1.shape"
   ]
  },
  {
   "cell_type": "code",
   "execution_count": 33,
   "metadata": {},
   "outputs": [
    {
     "data": {
      "text/plain": [
       "(10, 100)"
      ]
     },
     "execution_count": 33,
     "metadata": {},
     "output_type": "execute_result"
    }
   ],
   "source": [
    "sigmoid(data @ W1).shape"
   ]
  },
  {
   "cell_type": "code",
   "execution_count": 30,
   "metadata": {},
   "outputs": [
    {
     "data": {
      "text/plain": [
       "(10, 100)"
      ]
     },
     "execution_count": 30,
     "metadata": {},
     "output_type": "execute_result"
    }
   ],
   "source": [
    "(data @ W1).shape"
   ]
  },
  {
   "cell_type": "code",
   "execution_count": 3,
   "metadata": {},
   "outputs": [],
   "source": []
  },
  {
   "cell_type": "code",
   "execution_count": 3,
   "metadata": {},
   "outputs": [],
   "source": [
    "from nn import forward_prop, get_initial_params, read_data, one_hot_labels, sigmoid, softmax"
   ]
  },
  {
   "cell_type": "code",
   "execution_count": 118,
   "metadata": {},
   "outputs": [],
   "source": [
    "import numpy as np\n",
    "np.random.seed(100)\n",
    "data, labels = read_data('./images_train.csv', './labels_train.csv')\n",
    "labels = one_hot_labels(labels)\n",
    "p = np.random.permutation(1000)\n",
    "data = data[p,:]\n",
    "labels = labels[p,:]"
   ]
  },
  {
   "cell_type": "code",
   "execution_count": 119,
   "metadata": {},
   "outputs": [
    {
     "name": "stderr",
     "output_type": "stream",
     "text": [
      "c:\\Users\\azh.makanov\\Documents\\courses\\cs229-2021\\ps2\\src\\mnist\\nn.py:43: RuntimeWarning: overflow encountered in exp\n",
      "  return 1. / (1. + np.exp(-x))\n"
     ]
    }
   ],
   "source": [
    "params = get_initial_params(784, 100, 10)\n",
    "hidden = sigmoid(data @ params['W1'] + params['b1'])"
   ]
  },
  {
   "cell_type": "code",
   "execution_count": 120,
   "metadata": {},
   "outputs": [],
   "source": [
    "output = softmax(hidden @ params['W2'] + params['b2'])"
   ]
  },
  {
   "cell_type": "code",
   "execution_count": 121,
   "metadata": {},
   "outputs": [
    {
     "data": {
      "text/plain": [
       "array([[ -0.73306352, -10.47843428,  -0.65953724, ...,  -7.58747749,\n",
       "        -13.59343457, -13.81546419],\n",
       "       [ -0.06802578, -13.81542896,  -2.72794175, ..., -11.22443678,\n",
       "        -10.52774566, -13.81546631],\n",
       "       [ -0.11217017, -13.63531021,  -2.25020842, ..., -13.79112232,\n",
       "        -13.8154935 , -13.81551051],\n",
       "       ...,\n",
       "       [ -1.67800766, -13.81399806,  -3.31262106, ...,  -7.55428797,\n",
       "        -13.48654354, -13.50085361],\n",
       "       [ -0.07650664, -13.81525658,  -6.80102669, ...,  -4.11122603,\n",
       "        -13.78372985,  -6.97379604],\n",
       "       [ -2.90530968, -13.81101127, -11.00137705, ...,  -4.74513831,\n",
       "        -11.23143202, -13.81550926]])"
      ]
     },
     "execution_count": 121,
     "metadata": {},
     "output_type": "execute_result"
    }
   ],
   "source": [
    "eps = 1e-6\n",
    "np.log(output + eps)"
   ]
  },
  {
   "cell_type": "code",
   "execution_count": 122,
   "metadata": {},
   "outputs": [
    {
     "data": {
      "text/plain": [
       "array([[ -0.73306352,  -0.        ,  -0.        , ...,  -0.        ,\n",
       "         -0.        ,  -0.        ],\n",
       "       [ -0.        ,  -0.        ,  -0.        , ..., -11.22443678,\n",
       "         -0.        ,  -0.        ],\n",
       "       [ -0.        ,  -0.        ,  -0.        , ...,  -0.        ,\n",
       "         -0.        ,  -0.        ],\n",
       "       ...,\n",
       "       [ -0.        , -13.81399806,  -0.        , ...,  -0.        ,\n",
       "         -0.        ,  -0.        ],\n",
       "       [ -0.        ,  -0.        ,  -0.        , ...,  -0.        ,\n",
       "        -13.78372985,  -0.        ],\n",
       "       [ -0.        ,  -0.        ,  -0.        , ...,  -0.        ,\n",
       "         -0.        , -13.81550926]])"
      ]
     },
     "execution_count": 122,
     "metadata": {},
     "output_type": "execute_result"
    }
   ],
   "source": [
    "labels * np.log(output + eps)"
   ]
  },
  {
   "cell_type": "code",
   "execution_count": 123,
   "metadata": {},
   "outputs": [
    {
     "data": {
      "text/plain": [
       "0.9308363866511425"
      ]
     },
     "execution_count": 123,
     "metadata": {},
     "output_type": "execute_result"
    }
   ],
   "source": [
    "loss = - (labels * np.log(output + eps)).mean()\n",
    "loss"
   ]
  },
  {
   "cell_type": "code",
   "execution_count": 124,
   "metadata": {},
   "outputs": [
    {
     "data": {
      "text/plain": [
       "(100, 10)"
      ]
     },
     "execution_count": 124,
     "metadata": {},
     "output_type": "execute_result"
    }
   ],
   "source": [
    "dW2 = hidden.T @ (output - labels)\n",
    "dW2.shape"
   ]
  },
  {
   "cell_type": "code",
   "execution_count": 125,
   "metadata": {},
   "outputs": [
    {
     "data": {
      "text/plain": [
       "(10,)"
      ]
     },
     "execution_count": 125,
     "metadata": {},
     "output_type": "execute_result"
    }
   ],
   "source": [
    "db2 = (output - labels).sum(axis=0)\n",
    "db2.shape"
   ]
  },
  {
   "cell_type": "code",
   "execution_count": 126,
   "metadata": {},
   "outputs": [],
   "source": [
    "# (hidden * (1-hidden)).shape, (hidden * (1-hidden)).sum(axis=0)"
   ]
  },
  {
   "cell_type": "code",
   "execution_count": 127,
   "metadata": {},
   "outputs": [
    {
     "data": {
      "text/plain": [
       "array([[0.00000000e+000, 0.00000000e+000, 0.00000000e+000, ...,\n",
       "        1.06136693e-003, 0.00000000e+000, 0.00000000e+000],\n",
       "       [0.00000000e+000, 0.00000000e+000, 0.00000000e+000, ...,\n",
       "        0.00000000e+000, 0.00000000e+000, 0.00000000e+000],\n",
       "       [0.00000000e+000, 0.00000000e+000, 0.00000000e+000, ...,\n",
       "        9.56702213e-008, 0.00000000e+000, 0.00000000e+000],\n",
       "       ...,\n",
       "       [0.00000000e+000, 2.03109741e-002, 0.00000000e+000, ...,\n",
       "        2.35677071e-001, 0.00000000e+000, 0.00000000e+000],\n",
       "       [0.00000000e+000, 0.00000000e+000, 0.00000000e+000, ...,\n",
       "        5.02075057e-308, 0.00000000e+000, 0.00000000e+000],\n",
       "       [0.00000000e+000, 0.00000000e+000, 0.00000000e+000, ...,\n",
       "        0.00000000e+000, 0.00000000e+000, 1.27523911e-188]])"
      ]
     },
     "execution_count": 127,
     "metadata": {},
     "output_type": "execute_result"
    }
   ],
   "source": [
    "hidden * (1-hidden)"
   ]
  },
  {
   "cell_type": "code",
   "execution_count": 132,
   "metadata": {},
   "outputs": [
    {
     "data": {
      "text/plain": [
       "(100,)"
      ]
     },
     "execution_count": 132,
     "metadata": {},
     "output_type": "execute_result"
    }
   ],
   "source": [
    "(hidden * (1-hidden)).sum(axis=0).shape"
   ]
  },
  {
   "cell_type": "code",
   "execution_count": 141,
   "metadata": {},
   "outputs": [],
   "source": [
    "H = 100\n",
    "s = np.zeros((H, H))\n",
    "np.fill_diagonal(s, np.diag(hidden.T @ (1-hidden)))"
   ]
  },
  {
   "cell_type": "code",
   "execution_count": 142,
   "metadata": {},
   "outputs": [
    {
     "data": {
      "text/plain": [
       "array([[3.36504483e-01, 0.00000000e+00, 0.00000000e+00, ...,\n",
       "        0.00000000e+00, 0.00000000e+00, 0.00000000e+00],\n",
       "       [0.00000000e+00, 1.48183588e-01, 0.00000000e+00, ...,\n",
       "        0.00000000e+00, 0.00000000e+00, 0.00000000e+00],\n",
       "       [0.00000000e+00, 0.00000000e+00, 1.11869206e-01, ...,\n",
       "        0.00000000e+00, 0.00000000e+00, 0.00000000e+00],\n",
       "       ...,\n",
       "       [0.00000000e+00, 0.00000000e+00, 0.00000000e+00, ...,\n",
       "        3.65639553e-01, 0.00000000e+00, 0.00000000e+00],\n",
       "       [0.00000000e+00, 0.00000000e+00, 0.00000000e+00, ...,\n",
       "        0.00000000e+00, 1.60712046e-01, 0.00000000e+00],\n",
       "       [0.00000000e+00, 0.00000000e+00, 0.00000000e+00, ...,\n",
       "        0.00000000e+00, 0.00000000e+00, 8.43117163e-07]])"
      ]
     },
     "execution_count": 142,
     "metadata": {},
     "output_type": "execute_result"
    }
   ],
   "source": [
    "s"
   ]
  },
  {
   "cell_type": "code",
   "execution_count": 99,
   "metadata": {},
   "outputs": [
    {
     "data": {
      "text/plain": [
       "((100, 100), (60000, 784), (60000, 10), (100, 10))"
      ]
     },
     "execution_count": 99,
     "metadata": {},
     "output_type": "execute_result"
    }
   ],
   "source": [
    "# s = (hidden * (1-hidden)) #.sum(axis=0).reshape((100, 1))\n",
    "\n",
    "s.shape, data.shape, output.shape, params['W2'].shape\n",
    "# s"
   ]
  },
  {
   "cell_type": "code",
   "execution_count": 100,
   "metadata": {},
   "outputs": [
    {
     "data": {
      "text/plain": [
       "(784, 100)"
      ]
     },
     "execution_count": 100,
     "metadata": {},
     "output_type": "execute_result"
    }
   ],
   "source": [
    "dW1 = (data.T @ (output - labels) @ params['W2'].T) @ s\n",
    "dW1.shape"
   ]
  },
  {
   "cell_type": "code",
   "execution_count": 106,
   "metadata": {},
   "outputs": [
    {
     "data": {
      "text/plain": [
       "(100,)"
      ]
     },
     "execution_count": 106,
     "metadata": {},
     "output_type": "execute_result"
    }
   ],
   "source": [
    "db1 = ((output - labels) @ params['W2'].T @ s).sum(axis=0)\n",
    "db1.shape"
   ]
  },
  {
   "cell_type": "code",
   "execution_count": 110,
   "metadata": {},
   "outputs": [],
   "source": [
    "def gradient(f, value, delta=1e-3):\n",
    "    return (f(value + delta) - f(value - delta)) / (2*delta)"
   ]
  },
  {
   "cell_type": "code",
   "execution_count": null,
   "metadata": {},
   "outputs": [],
   "source": [
    "\n",
    "def backward_prop(data, labels, params, forward_prop_func):\n",
    "    hidden, output, loss = forward_prop_func(data, labels, params)\n",
    "    dW2 = ((output - labels).T @ hidden).T\n",
    "    db2 = (output - labels).sum(axis=0)\n",
    "    _, H = hidden.shape\n",
    "    s = np.zeros((H, H))\n",
    "    np.fill_diagonal(s, (hidden * (1-hidden)))\n",
    "    dW1 = (data.T @ (output - labels) @ params['W2'].T) @ s\n",
    "    db1 = ((output - labels) @ params['W2'].T @ s).sum(axis=0)\n",
    "    return \n"
   ]
  }
 ],
 "metadata": {
  "kernelspec": {
   "display_name": ".venv",
   "language": "python",
   "name": "python3"
  },
  "language_info": {
   "codemirror_mode": {
    "name": "ipython",
    "version": 3
   },
   "file_extension": ".py",
   "mimetype": "text/x-python",
   "name": "python",
   "nbconvert_exporter": "python",
   "pygments_lexer": "ipython3",
   "version": "3.12.1"
  }
 },
 "nbformat": 4,
 "nbformat_minor": 2
}
