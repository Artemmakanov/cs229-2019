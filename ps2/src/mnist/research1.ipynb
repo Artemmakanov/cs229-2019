{
 "cells": [
  {
   "cell_type": "code",
   "execution_count": 37,
   "metadata": {},
   "outputs": [
    {
     "name": "stdout",
     "output_type": "stream",
     "text": [
      "Requirement already satisfied: numpy in c:\\users\\azh.makanov\\miniconda3\\envs\\cs229\\lib\\site-packages (1.26.4)\n",
      "Requirement already satisfied: matplotlib in c:\\users\\azh.makanov\\miniconda3\\envs\\cs229\\lib\\site-packages (3.8.3)\n",
      "Requirement already satisfied: tqdm in c:\\users\\azh.makanov\\miniconda3\\envs\\cs229\\lib\\site-packages (4.66.2)\n",
      "Requirement already satisfied: contourpy>=1.0.1 in c:\\users\\azh.makanov\\miniconda3\\envs\\cs229\\lib\\site-packages (from matplotlib) (1.2.0)\n",
      "Requirement already satisfied: cycler>=0.10 in c:\\users\\azh.makanov\\miniconda3\\envs\\cs229\\lib\\site-packages (from matplotlib) (0.12.1)\n",
      "Requirement already satisfied: fonttools>=4.22.0 in c:\\users\\azh.makanov\\miniconda3\\envs\\cs229\\lib\\site-packages (from matplotlib) (4.49.0)\n",
      "Requirement already satisfied: kiwisolver>=1.3.1 in c:\\users\\azh.makanov\\miniconda3\\envs\\cs229\\lib\\site-packages (from matplotlib) (1.4.5)\n",
      "Requirement already satisfied: packaging>=20.0 in c:\\users\\azh.makanov\\miniconda3\\envs\\cs229\\lib\\site-packages (from matplotlib) (23.2)\n",
      "Requirement already satisfied: pillow>=8 in c:\\users\\azh.makanov\\miniconda3\\envs\\cs229\\lib\\site-packages (from matplotlib) (10.2.0)\n",
      "Requirement already satisfied: pyparsing>=2.3.1 in c:\\users\\azh.makanov\\miniconda3\\envs\\cs229\\lib\\site-packages (from matplotlib) (3.1.1)\n",
      "Requirement already satisfied: python-dateutil>=2.7 in c:\\users\\azh.makanov\\miniconda3\\envs\\cs229\\lib\\site-packages (from matplotlib) (2.8.2)\n",
      "Requirement already satisfied: colorama in c:\\users\\azh.makanov\\miniconda3\\envs\\cs229\\lib\\site-packages (from tqdm) (0.4.6)\n",
      "Requirement already satisfied: six>=1.5 in c:\\users\\azh.makanov\\miniconda3\\envs\\cs229\\lib\\site-packages (from python-dateutil>=2.7->matplotlib) (1.16.0)\n"
     ]
    }
   ],
   "source": [
    "!pip install numpy matplotlib tqdm"
   ]
  },
  {
   "cell_type": "code",
   "execution_count": 2,
   "metadata": {},
   "outputs": [],
   "source": [
    "from nn import forward_prop, get_initial_params, read_data, one_hot_labels, sigmoid, softmax\n",
    "import numpy as np\n",
    "np.random.seed(100)\n",
    "data, labels = read_data('./images_train.csv', './labels_train.csv')\n",
    "labels = one_hot_labels(labels)\n",
    "p = np.random.permutation(1000)\n",
    "data = data[p,:]\n",
    "labels = labels[p,:]"
   ]
  },
  {
   "cell_type": "code",
   "execution_count": 3,
   "metadata": {},
   "outputs": [
    {
     "name": "stderr",
     "output_type": "stream",
     "text": [
      "c:\\Users\\azh.makanov\\Documents\\courses\\cs229-2021\\ps2\\src\\mnist\\nn.py:43: RuntimeWarning: overflow encountered in exp\n",
      "  return 1. / (1. + np.exp(-x))\n"
     ]
    },
    {
     "data": {
      "text/plain": [
       "((1000, 100), (1000, 10), (100, 10))"
      ]
     },
     "execution_count": 3,
     "metadata": {},
     "output_type": "execute_result"
    }
   ],
   "source": [
    "params = get_initial_params(784, 100, 10)\n",
    "hidden = sigmoid(data @ params['W1'] + params['b1'])\n",
    "output = softmax(hidden @ params['W2'] + params['b2'])\n",
    "hidden.shape, output.shape, params['W2'].shape"
   ]
  },
  {
   "cell_type": "code",
   "execution_count": 4,
   "metadata": {},
   "outputs": [],
   "source": [
    "from tqdm import tqdm"
   ]
  },
  {
   "cell_type": "code",
   "execution_count": 5,
   "metadata": {},
   "outputs": [],
   "source": [
    "hidden, output, loss = forward_prop(data, labels, params)\n",
    "dW2 = ((output - labels).T @ hidden).T\n",
    "db2 = (output - labels).sum(axis=0)\n",
    "s = (hidden * (1 - hidden))\n",
    "B, H = hidden.shape\n",
    "B, I = data.shape\n",
    "B, K = output.shape"
   ]
  },
  {
   "cell_type": "code",
   "execution_count": 137,
   "metadata": {},
   "outputs": [
    {
     "name": "stderr",
     "output_type": "stream",
     "text": [
      "c:\\Users\\azh.makanov\\Documents\\courses\\cs229-2021\\ps2\\src\\mnist\\nn.py:43: RuntimeWarning: overflow encountered in exp\n",
      "  return 1. / (1. + np.exp(-x))\n",
      "  0%|          | 0/1000 [00:00<?, ?it/s]"
     ]
    },
    {
     "name": "stderr",
     "output_type": "stream",
     "text": [
      "100%|██████████| 1000/1000 [00:56<00:00, 17.74it/s]\n"
     ]
    },
    {
     "data": {
      "text/plain": [
       "80298.77160040611"
      ]
     },
     "execution_count": 137,
     "metadata": {},
     "output_type": "execute_result"
    }
   ],
   "source": [
    "\n",
    "dW1 = np.zeros((I, H))\n",
    "db1 = np.zeros(H)\n",
    "\n",
    "for b in tqdm(range(B)):\n",
    "    for h in range(H):\n",
    "        a = params['W2'][h, :].dot((output - labels)[b]) \n",
    "        for i in range(I):\n",
    "            dW1[i, h] += a * s[b][h] * data[b, i]\n",
    "        db1[h] += a\n",
    "dW1.sum()"
   ]
  },
  {
   "cell_type": "code",
   "execution_count": 159,
   "metadata": {},
   "outputs": [
    {
     "name": "stderr",
     "output_type": "stream",
     "text": [
      "100%|██████████| 100/100 [00:00<00:00, 123.91it/s]\n"
     ]
    },
    {
     "data": {
      "text/plain": [
       "80298.7716004061"
      ]
     },
     "execution_count": 159,
     "metadata": {},
     "output_type": "execute_result"
    }
   ],
   "source": [
    "dW1 = np.zeros((I, H))\n",
    "db1 = np.zeros(H)\n",
    "\n",
    "for h in tqdm(range(H)):\n",
    "    a = (output - labels).dot(params['W2'][h, :])\n",
    "    for i in range(I):\n",
    "        dW1[i, h] += (a * s[:, h] * data[:, i]).sum()\n",
    "    db1[h] += a.sum()\n",
    "dW1.sum()"
   ]
  },
  {
   "cell_type": "code",
   "execution_count": 17,
   "metadata": {},
   "outputs": [
    {
     "name": "stderr",
     "output_type": "stream",
     "text": [
      "100%|██████████| 100/100 [00:00<00:00, 1333.24it/s]\n"
     ]
    },
    {
     "data": {
      "text/plain": [
       "80298.7716004061"
      ]
     },
     "execution_count": 17,
     "metadata": {},
     "output_type": "execute_result"
    }
   ],
   "source": [
    "dW1 = np.zeros((I, H))\n",
    "db1 = np.zeros(H)\n",
    "\n",
    "for h in tqdm(range(H)):\n",
    "    a = (output - labels).dot(params['W2'][h, :])\n",
    "    # print(a.shape)\n",
    "    # print( s[:, h].shape)\n",
    "    # print((data).shape)\n",
    "    dW1[:, h] += ((a * s[:, h]).reshape((1, 1000)) @ data)[0]\n",
    "    \n",
    "    db1[h] += a.sum()\n",
    "dW1.sum()"
   ]
  }
 ],
 "metadata": {
  "kernelspec": {
   "display_name": "cs229",
   "language": "python",
   "name": "python3"
  },
  "language_info": {
   "codemirror_mode": {
    "name": "ipython",
    "version": 3
   },
   "file_extension": ".py",
   "mimetype": "text/x-python",
   "name": "python",
   "nbconvert_exporter": "python",
   "pygments_lexer": "ipython3",
   "version": "3.12.1"
  }
 },
 "nbformat": 4,
 "nbformat_minor": 2
}
